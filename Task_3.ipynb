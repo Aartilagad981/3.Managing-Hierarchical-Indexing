{
 "cells": [
  {
   "cell_type": "code",
   "execution_count": 1,
   "id": "ec0204ff-d0ae-4768-b6b5-b6184dfa7e08",
   "metadata": {},
   "outputs": [],
   "source": [
    "import pandas as pd"
   ]
  },
  {
   "cell_type": "code",
   "execution_count": 5,
   "id": "5956941d-85bf-4da5-886c-b3fb2593268d",
   "metadata": {},
   "outputs": [],
   "source": [
    "df = pd.read_csv(\"tested.csv.csv\")\n"
   ]
  },
  {
   "cell_type": "code",
   "execution_count": 7,
   "id": "d1cbb999-970f-40d9-8a98-6050896e08a2",
   "metadata": {},
   "outputs": [
    {
     "name": "stdout",
     "output_type": "stream",
     "text": [
      "Shape: (418, 12)\n"
     ]
    }
   ],
   "source": [
    "print(\"Shape:\", df.shape)"
   ]
  },
  {
   "cell_type": "code",
   "execution_count": 9,
   "id": "94327c1f-cfb9-4bd8-9d5e-9174e90b5ccc",
   "metadata": {},
   "outputs": [
    {
     "name": "stdout",
     "output_type": "stream",
     "text": [
      "   PassengerId  Survived  Pclass  \\\n",
      "0          892         0       3   \n",
      "1          893         1       3   \n",
      "2          894         0       2   \n",
      "3          895         0       3   \n",
      "4          896         1       3   \n",
      "\n",
      "                                           Name     Sex   Age  SibSp  Parch  \\\n",
      "0                              Kelly, Mr. James    male  34.5      0      0   \n",
      "1              Wilkes, Mrs. James (Ellen Needs)  female  47.0      1      0   \n",
      "2                     Myles, Mr. Thomas Francis    male  62.0      0      0   \n",
      "3                              Wirz, Mr. Albert    male  27.0      0      0   \n",
      "4  Hirvonen, Mrs. Alexander (Helga E Lindqvist)  female  22.0      1      1   \n",
      "\n",
      "    Ticket     Fare Cabin Embarked  \n",
      "0   330911   7.8292   NaN        Q  \n",
      "1   363272   7.0000   NaN        S  \n",
      "2   240276   9.6875   NaN        Q  \n",
      "3   315154   8.6625   NaN        S  \n",
      "4  3101298  12.2875   NaN        S  \n"
     ]
    }
   ],
   "source": [
    "print(df.head())"
   ]
  },
  {
   "cell_type": "code",
   "execution_count": 11,
   "id": "672c7662-9b40-4fa1-9f35-da7ae93b0865",
   "metadata": {},
   "outputs": [],
   "source": [
    "df_multi = df.set_index([\"Pclass\", \"Sex\", \"Embarked\"])"
   ]
  },
  {
   "cell_type": "code",
   "execution_count": 13,
   "id": "2217f5b9-5915-4c99-b13d-d21da1bdb4ce",
   "metadata": {},
   "outputs": [
    {
     "name": "stdout",
     "output_type": "stream",
     "text": [
      "                        PassengerId  Survived  \\\n",
      "Pclass Sex    Embarked                          \n",
      "3      male   Q                 892         0   \n",
      "       female S                 893         1   \n",
      "2      male   Q                 894         0   \n",
      "3      male   S                 895         0   \n",
      "       female S                 896         1   \n",
      "\n",
      "                                                                Name   Age  \\\n",
      "Pclass Sex    Embarked                                                       \n",
      "3      male   Q                                     Kelly, Mr. James  34.5   \n",
      "       female S                     Wilkes, Mrs. James (Ellen Needs)  47.0   \n",
      "2      male   Q                            Myles, Mr. Thomas Francis  62.0   \n",
      "3      male   S                                     Wirz, Mr. Albert  27.0   \n",
      "       female S         Hirvonen, Mrs. Alexander (Helga E Lindqvist)  22.0   \n",
      "\n",
      "                        SibSp  Parch   Ticket     Fare Cabin  \n",
      "Pclass Sex    Embarked                                        \n",
      "3      male   Q             0      0   330911   7.8292   NaN  \n",
      "       female S             1      0   363272   7.0000   NaN  \n",
      "2      male   Q             0      0   240276   9.6875   NaN  \n",
      "3      male   S             0      0   315154   8.6625   NaN  \n",
      "       female S             1      1  3101298  12.2875   NaN  \n"
     ]
    }
   ],
   "source": [
    "print(df_multi.head())"
   ]
  },
  {
   "cell_type": "code",
   "execution_count": 15,
   "id": "480af450-1e42-46c0-aa5e-62fb8e2d3934",
   "metadata": {},
   "outputs": [
    {
     "name": "stdout",
     "output_type": "stream",
     "text": [
      "                 PassengerId  Survived  \\\n",
      "Sex    Embarked                          \n",
      "male   S                 903         0   \n",
      "female S                 904         1   \n",
      "       S                 906         1   \n",
      "male   C                 912         0   \n",
      "female S                 914         1   \n",
      "...                      ...       ...   \n",
      "male   S                1295         0   \n",
      "       C                1296         0   \n",
      "       C                1299         0   \n",
      "female Q                1303         1   \n",
      "       C                1306         1   \n",
      "\n",
      "                                                              Name   Age  \\\n",
      "Sex    Embarked                                                            \n",
      "male   S                                Jones, Mr. Charles Cresson  46.0   \n",
      "female S             Snyder, Mrs. John Pillsbury (Nelle Stevenson)  23.0   \n",
      "       S         Chaffee, Mrs. Herbert Fuller (Carrie Constance...  47.0   \n",
      "male   C                                    Rothschild, Mr. Martin  55.0   \n",
      "female S                      Flegenheim, Mrs. Alfred (Antoinette)   NaN   \n",
      "...                                                            ...   ...   \n",
      "male   S                                    Carrau, Mr. Jose Pedro  17.0   \n",
      "       C                              Frauenthal, Mr. Isaac Gerald  43.0   \n",
      "       C                                Widener, Mr. George Dunton  50.0   \n",
      "female Q           Minahan, Mrs. William Edward (Lillian E Thorpe)  37.0   \n",
      "       C                              Oliva y Ocana, Dona. Fermina  39.0   \n",
      "\n",
      "                 SibSp  Parch       Ticket      Fare Cabin  \n",
      "Sex    Embarked                                             \n",
      "male   S             0      0          694   26.0000   NaN  \n",
      "female S             1      0        21228   82.2667   B45  \n",
      "       S             1      0  W.E.P. 5734   61.1750   E31  \n",
      "male   C             1      0     PC 17603   59.4000   NaN  \n",
      "female S             0      0     PC 17598   31.6833   NaN  \n",
      "...                ...    ...          ...       ...   ...  \n",
      "male   S             0      0       113059   47.1000   NaN  \n",
      "       C             1      0        17765   27.7208   D40  \n",
      "       C             1      1       113503  211.5000   C80  \n",
      "female Q             1      0        19928   90.0000   C78  \n",
      "       C             0      0     PC 17758  108.9000  C105  \n",
      "\n",
      "[107 rows x 9 columns]\n"
     ]
    }
   ],
   "source": [
    "print(df_multi.loc[1])"
   ]
  },
  {
   "cell_type": "code",
   "execution_count": 17,
   "id": "c1186e34-0b30-4003-a1d6-00ecfcf31081",
   "metadata": {},
   "outputs": [
    {
     "name": "stdout",
     "output_type": "stream",
     "text": [
      "                 PassengerId  Survived  \\\n",
      "Pclass Embarked                          \n",
      "3      S                 893         1   \n",
      "       S                 896         1   \n",
      "       Q                 898         1   \n",
      "       C                 900         1   \n",
      "1      S                 904         1   \n",
      "\n",
      "                                                          Name   Age  SibSp  \\\n",
      "Pclass Embarked                                                               \n",
      "3      S                      Wilkes, Mrs. James (Ellen Needs)  47.0      1   \n",
      "       S          Hirvonen, Mrs. Alexander (Helga E Lindqvist)  22.0      1   \n",
      "       Q                                  Connolly, Miss. Kate  30.0      0   \n",
      "       C             Abrahim, Mrs. Joseph (Sophie Halaut Easu)  18.0      0   \n",
      "1      S         Snyder, Mrs. John Pillsbury (Nelle Stevenson)  23.0      1   \n",
      "\n",
      "                 Parch   Ticket     Fare Cabin  \n",
      "Pclass Embarked                                 \n",
      "3      S             0   363272   7.0000   NaN  \n",
      "       S             1  3101298  12.2875   NaN  \n",
      "       Q             0   330972   7.6292   NaN  \n",
      "       C             0     2657   7.2292   NaN  \n",
      "1      S             0    21228  82.2667   B45  \n"
     ]
    }
   ],
   "source": [
    "print(df_multi.xs(\"female\", level=\"Sex\").head())"
   ]
  },
  {
   "cell_type": "code",
   "execution_count": 19,
   "id": "91c24f29-354a-4319-8893-2cbaf71210d9",
   "metadata": {},
   "outputs": [
    {
     "name": "stdout",
     "output_type": "stream",
     "text": [
      "                        PassengerId  Survived  \\\n",
      "Pclass Sex    Embarked                          \n",
      "3      female S                 893         1   \n",
      "              S                 896         1   \n",
      "              S                 910         1   \n",
      "              S                 924         1   \n",
      "              S                 925         1   \n",
      "\n",
      "                                                                     Name  \\\n",
      "Pclass Sex    Embarked                                                      \n",
      "3      female S                          Wilkes, Mrs. James (Ellen Needs)   \n",
      "              S              Hirvonen, Mrs. Alexander (Helga E Lindqvist)   \n",
      "              S                              Ilmakangas, Miss. Ida Livija   \n",
      "              S                  Dean, Mrs. Bertram (Eva Georgetta Light)   \n",
      "              S         Johnston, Mrs. Andrew G (Elizabeth Lily\" Watson)\"   \n",
      "\n",
      "                         Age  SibSp  Parch            Ticket     Fare Cabin  \n",
      "Pclass Sex    Embarked                                                       \n",
      "3      female S         47.0      1      0            363272   7.0000   NaN  \n",
      "              S         22.0      1      1           3101298  12.2875   NaN  \n",
      "              S         27.0      1      0  STON/O2. 3101270   7.9250   NaN  \n",
      "              S         33.0      1      2         C.A. 2315  20.5750   NaN  \n",
      "              S          NaN      1      2        W./C. 6607  23.4500   NaN  \n"
     ]
    },
    {
     "name": "stderr",
     "output_type": "stream",
     "text": [
      "C:\\Users\\HP\\AppData\\Local\\Temp\\ipykernel_3036\\3727879306.py:1: PerformanceWarning: indexing past lexsort depth may impact performance.\n",
      "  print(df_multi.loc[(3, \"female\", \"S\")].head())\n"
     ]
    }
   ],
   "source": [
    "print(df_multi.loc[(3, \"female\", \"S\")].head())"
   ]
  },
  {
   "cell_type": "code",
   "execution_count": 21,
   "id": "035bde96-975a-49db-b535-ce2edc02c69c",
   "metadata": {},
   "outputs": [
    {
     "name": "stdout",
     "output_type": "stream",
     "text": [
      "                        PassengerId  Survived  \\\n",
      "Sex    Pclass Embarked                          \n",
      "male   3      Q                 892         0   \n",
      "female 3      S                 893         1   \n",
      "male   2      Q                 894         0   \n",
      "       3      S                 895         0   \n",
      "female 3      S                 896         1   \n",
      "\n",
      "                                                                Name   Age  \\\n",
      "Sex    Pclass Embarked                                                       \n",
      "male   3      Q                                     Kelly, Mr. James  34.5   \n",
      "female 3      S                     Wilkes, Mrs. James (Ellen Needs)  47.0   \n",
      "male   2      Q                            Myles, Mr. Thomas Francis  62.0   \n",
      "       3      S                                     Wirz, Mr. Albert  27.0   \n",
      "female 3      S         Hirvonen, Mrs. Alexander (Helga E Lindqvist)  22.0   \n",
      "\n",
      "                        SibSp  Parch   Ticket     Fare Cabin  \n",
      "Sex    Pclass Embarked                                        \n",
      "male   3      Q             0      0   330911   7.8292   NaN  \n",
      "female 3      S             1      0   363272   7.0000   NaN  \n",
      "male   2      Q             0      0   240276   9.6875   NaN  \n",
      "       3      S             0      0   315154   8.6625   NaN  \n",
      "female 3      S             1      1  3101298  12.2875   NaN  \n"
     ]
    }
   ],
   "source": [
    "df_swapped = df_multi.swaplevel(\"Pclass\", \"Sex\")\n",
    "print(df_swapped.head())"
   ]
  },
  {
   "cell_type": "code",
   "execution_count": 23,
   "id": "1c9b575c-f6f1-48df-9444-bfcf99355155",
   "metadata": {},
   "outputs": [
    {
     "name": "stdout",
     "output_type": "stream",
     "text": [
      "                        PassengerId  Survived  \\\n",
      "Pclass Sex    Embarked                          \n",
      "1      female C                 916         1   \n",
      "              C                 918         1   \n",
      "              C                 940         1   \n",
      "              C                 951         1   \n",
      "              C                 966         1   \n",
      "\n",
      "                                                                   Name   Age  \\\n",
      "Pclass Sex    Embarked                                                          \n",
      "1      female C         Ryerson, Mrs. Arthur Larned (Emily Maria Borie)  48.0   \n",
      "              C                            Ostby, Miss. Helene Ragnhild  22.0   \n",
      "              C         Bucknell, Mrs. William Robert (Emma Eliza Ward)  60.0   \n",
      "              C                             Chaudanson, Miss. Victorine  36.0   \n",
      "              C                                    Geiger, Miss. Amalie  35.0   \n",
      "\n",
      "                        SibSp  Parch    Ticket      Fare            Cabin  \n",
      "Pclass Sex    Embarked                                                     \n",
      "1      female C             1      3  PC 17608  262.3750  B57 B59 B63 B66  \n",
      "              C             0      1    113509   61.9792              B36  \n",
      "              C             0      0     11813   76.2917              D15  \n",
      "              C             0      0  PC 17608  262.3750              B61  \n",
      "              C             0      0    113503  211.5000             C130  \n"
     ]
    }
   ],
   "source": [
    "df_sorted = df_multi.sort_index()\n",
    "print(df_sorted.head())\n"
   ]
  },
  {
   "cell_type": "code",
   "execution_count": 25,
   "id": "3f650986-f0f6-4e9e-9e1a-60b58d273ba1",
   "metadata": {},
   "outputs": [
    {
     "name": "stdout",
     "output_type": "stream",
     "text": [
      "   Pclass     Sex Embarked  PassengerId  Survived  \\\n",
      "0       3    male        Q          892         0   \n",
      "1       3  female        S          893         1   \n",
      "2       2    male        Q          894         0   \n",
      "3       3    male        S          895         0   \n",
      "4       3  female        S          896         1   \n",
      "\n",
      "                                           Name   Age  SibSp  Parch   Ticket  \\\n",
      "0                              Kelly, Mr. James  34.5      0      0   330911   \n",
      "1              Wilkes, Mrs. James (Ellen Needs)  47.0      1      0   363272   \n",
      "2                     Myles, Mr. Thomas Francis  62.0      0      0   240276   \n",
      "3                              Wirz, Mr. Albert  27.0      0      0   315154   \n",
      "4  Hirvonen, Mrs. Alexander (Helga E Lindqvist)  22.0      1      1  3101298   \n",
      "\n",
      "      Fare Cabin  \n",
      "0   7.8292   NaN  \n",
      "1   7.0000   NaN  \n",
      "2   9.6875   NaN  \n",
      "3   8.6625   NaN  \n",
      "4  12.2875   NaN  \n"
     ]
    }
   ],
   "source": [
    "df_reset = df_multi.reset_index()\n",
    "print(df_reset.head())"
   ]
  },
  {
   "cell_type": "code",
   "execution_count": 27,
   "id": "8903c82b-82d4-4705-9481-193daac44790",
   "metadata": {},
   "outputs": [
    {
     "name": "stdout",
     "output_type": "stream",
     "text": [
      "Pclass  Sex   \n",
      "1       female    41.333333\n",
      "        male      40.520000\n",
      "2       female    24.376552\n",
      "        male      30.940678\n",
      "3       female    23.073400\n",
      "        male      24.525104\n",
      "Name: Age, dtype: float64\n"
     ]
    }
   ],
   "source": [
    "print(df.groupby([\"Pclass\", \"Sex\"])[\"Age\"].mean())"
   ]
  },
  {
   "cell_type": "code",
   "execution_count": 29,
   "id": "e29b38d1-feb1-4bd2-af5e-4526dd4b3a9f",
   "metadata": {},
   "outputs": [
    {
     "name": "stdout",
     "output_type": "stream",
     "text": [
      "Pclass  Sex     Embarked\n",
      "1       female  C           1.0\n",
      "                Q           1.0\n",
      "                S           1.0\n",
      "        male    C           0.0\n",
      "                S           0.0\n",
      "2       female  C           1.0\n",
      "                S           1.0\n",
      "        male    C           0.0\n",
      "                Q           0.0\n",
      "                S           0.0\n",
      "3       female  C           1.0\n",
      "                Q           1.0\n",
      "                S           1.0\n",
      "        male    C           0.0\n",
      "                Q           0.0\n",
      "                S           0.0\n",
      "Name: Survived, dtype: float64\n"
     ]
    }
   ],
   "source": [
    "print(df.groupby([\"Pclass\", \"Sex\", \"Embarked\"])[\"Survived\"].mean())"
   ]
  },
  {
   "cell_type": "code",
   "execution_count": null,
   "id": "5823dc39-2262-41ce-bf8e-f5b6f2881858",
   "metadata": {},
   "outputs": [],
   "source": []
  }
 ],
 "metadata": {
  "kernelspec": {
   "display_name": "Python [conda env:anaconda3]",
   "language": "python",
   "name": "conda-env-anaconda3-py"
  },
  "language_info": {
   "codemirror_mode": {
    "name": "ipython",
    "version": 3
   },
   "file_extension": ".py",
   "mimetype": "text/x-python",
   "name": "python",
   "nbconvert_exporter": "python",
   "pygments_lexer": "ipython3",
   "version": "3.12.7"
  }
 },
 "nbformat": 4,
 "nbformat_minor": 5
}
